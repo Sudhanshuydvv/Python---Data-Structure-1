{
  "nbformat": 4,
  "nbformat_minor": 0,
  "metadata": {
    "colab": {
      "provenance": [],
      "collapsed_sections": [
        "NMxHdVRnXExx"
      ]
    },
    "kernelspec": {
      "name": "python3",
      "display_name": "Python 3"
    },
    "language_info": {
      "name": "python"
    }
  },
  "cells": [
    {
      "cell_type": "markdown",
      "source": [
        "#Python - Data Structure"
      ],
      "metadata": {
        "id": "1U8xPMwuKCHR"
      }
    },
    {
      "cell_type": "markdown",
      "source": [
        "#1. What are data structures, and why are they important ?\n",
        "- Data structure is way of organising and storing data so that it can accessed and manipulated efficiently. It is important because it makes efficient data management, performance optimization, having simplified code, it also memory efficiency and many more.\n"
      ],
      "metadata": {
        "id": "9wqsG08uLrLh"
      }
    },
    {
      "cell_type": "markdown",
      "source": [
        "#1.  Write a code to create a string with your name and print it."
      ],
      "metadata": {
        "id": "tZE44y63Sn7r"
      }
    },
    {
      "cell_type": "code",
      "source": [
        "Name = \"Sudhanshu Yadav\"\n",
        "print(Name)"
      ],
      "metadata": {
        "colab": {
          "base_uri": "https://localhost:8080/"
        },
        "id": "GYgY5obENCRB",
        "outputId": "037146ee-f66e-4033-b41d-78028c660ca5"
      },
      "execution_count": null,
      "outputs": [
        {
          "output_type": "stream",
          "name": "stdout",
          "text": [
            "Sudhanshu Yadav\n"
          ]
        }
      ]
    },
    {
      "cell_type": "markdown",
      "source": [
        "#2. Expain the difference between mutable and immutable data types with examples.\n",
        "- mutable data types allow modifications\n",
        "to their values after creation.\n",
        "# example- lists, dictionaries, and sets.\n",
        "And immutable data types cannot be changed after modifications.\n",
        "# example- strings, tuples, and integers."
      ],
      "metadata": {
        "id": "4UgWnYTLNz8C"
      }
    },
    {
      "cell_type": "markdown",
      "source": [
        "#2. Write a code to find the length of the string \"Hello World\"."
      ],
      "metadata": {
        "id": "KDuzyvuHTOOG"
      }
    },
    {
      "cell_type": "code",
      "source": [
        "str = \"Hello World\"\n",
        "len(str)"
      ],
      "metadata": {
        "colab": {
          "base_uri": "https://localhost:8080/"
        },
        "id": "Ybz2uOI3QZ13",
        "outputId": "fb13bff1-0286-46d9-8cae-55346cfae8dc"
      },
      "execution_count": null,
      "outputs": [
        {
          "output_type": "execute_result",
          "data": {
            "text/plain": [
              "11"
            ]
          },
          "metadata": {},
          "execution_count": 6
        }
      ]
    },
    {
      "cell_type": "markdown",
      "source": [
        "#3. What are the main differences between lists and tuples in python?\n",
        "- The main differences between lists and tuples in python.In lists,basically you can stored anything in list and also store heterogenous data and lists are also mutable. whereas In tuples, you used to store an ordered collection of data. they are similar to lists but have a major difference as tuples are immutable, meaning their values cannot be changed after creation.\n"
      ],
      "metadata": {
        "id": "EjG70N-CQvHi"
      }
    },
    {
      "cell_type": "markdown",
      "source": [
        "#3. Write a code to slice the first 3 characters from the string \"Python Programming\"."
      ],
      "metadata": {
        "id": "Iycb478PUz8O"
      }
    },
    {
      "cell_type": "code",
      "source": [
        "string = \"Python Programming\"\n",
        "string[0:3]"
      ],
      "metadata": {
        "colab": {
          "base_uri": "https://localhost:8080/",
          "height": 36
        },
        "id": "uofBLFntSRmq",
        "outputId": "f6ea5e42-48ab-43e0-b83a-1d0a1a4b360a"
      },
      "execution_count": null,
      "outputs": [
        {
          "output_type": "execute_result",
          "data": {
            "text/plain": [
              "'Pyt'"
            ],
            "application/vnd.google.colaboratory.intrinsic+json": {
              "type": "string"
            }
          },
          "metadata": {},
          "execution_count": 9
        }
      ]
    },
    {
      "cell_type": "markdown",
      "source": [
        "#4. Describe how dictionaries store data.\n",
        "- Dictionaries is used in such a way where you want to store data in form of key value pair.\n",
        "ex- my_dict={\"Keycoarse\" : \"Data science\" : \"Duration\" : 200} whereas key is before the colon and the value of key is after the key."
      ],
      "metadata": {
        "id": "6Qmt7xWNS5_E"
      }
    },
    {
      "cell_type": "markdown",
      "source": [
        "#4. Write a code to convert the string \"hello\" to uppercase.\n"
      ],
      "metadata": {
        "id": "ktWdH3vMV5FQ"
      }
    },
    {
      "cell_type": "code",
      "source": [
        "str = \"hello\"\n",
        "str.upper()"
      ],
      "metadata": {
        "colab": {
          "base_uri": "https://localhost:8080/",
          "height": 36
        },
        "id": "ObXx-X6JWFCa",
        "outputId": "2a05a0e2-c42e-48ec-eb9f-0f7d5c9878fd"
      },
      "execution_count": null,
      "outputs": [
        {
          "output_type": "execute_result",
          "data": {
            "text/plain": [
              "'HELLO'"
            ],
            "application/vnd.google.colaboratory.intrinsic+json": {
              "type": "string"
            }
          },
          "metadata": {},
          "execution_count": 13
        }
      ]
    },
    {
      "cell_type": "markdown",
      "source": [
        "#5.  Why might you use a set instead of a list in Python?\n",
        "- Sets and lists serve different purposes in python, and choosing one over the other depends on what you are trying to achieve. some reasons why you choose set over a lists, 1- uniqueness 2- performance 3- set operations 4- unoredered collections."
      ],
      "metadata": {
        "id": "NMxHdVRnXExx"
      }
    },
    {
      "cell_type": "markdown",
      "source": [
        "#5.  Write a code to replace the word \"apple\" with \"orange\" in the string \"I like apple\"."
      ],
      "metadata": {
        "id": "M6JOOlH2XNNj"
      }
    },
    {
      "cell_type": "code",
      "source": [
        "str = \"I like apple\"\n",
        "str.replace(\"apple\",\"orange\")"
      ],
      "metadata": {
        "colab": {
          "base_uri": "https://localhost:8080/",
          "height": 36
        },
        "id": "caJV1mNYXVa1",
        "outputId": "0c71b185-9269-46d8-c352-baf60eedf1e8"
      },
      "execution_count": null,
      "outputs": [
        {
          "output_type": "execute_result",
          "data": {
            "text/plain": [
              "'I like orange'"
            ],
            "application/vnd.google.colaboratory.intrinsic+json": {
              "type": "string"
            }
          },
          "metadata": {},
          "execution_count": 14
        }
      ]
    },
    {
      "cell_type": "markdown",
      "source": [
        "#6. What is a string in Python, and how is it different from a list?\n",
        "- String is a sequence of character to represent and manipulate textual data. and it is enclosed in single quotes(' ') or double quotes(\" \"). Whereas lists is a collection of items that can be different  data types, such as integers,floats. and lists are enclosed in single brackets[ ]."
      ],
      "metadata": {
        "id": "N2XKrtRnX5hv"
      }
    },
    {
      "cell_type": "markdown",
      "source": [
        "#6. Write a code to create a list with numbers 1 to 5 and print it.\n"
      ],
      "metadata": {
        "id": "4cuKibcpZU-B"
      }
    },
    {
      "cell_type": "code",
      "source": [
        "numbers  = [1,2,3,4,5]\n",
        "print(numbers)"
      ],
      "metadata": {
        "colab": {
          "base_uri": "https://localhost:8080/"
        },
        "id": "al1ZgOghZsAD",
        "outputId": "f84daa27-f2ba-40d9-ecaf-5a64c77006de"
      },
      "execution_count": null,
      "outputs": [
        {
          "output_type": "stream",
          "name": "stdout",
          "text": [
            "[1, 2, 3, 4, 5]\n"
          ]
        }
      ]
    },
    {
      "cell_type": "markdown",
      "source": [
        "#7.  How do tuples ensure data integrity in Python ?\n",
        "- Tuples ensure data integrity in python as due to their immutable nature. as tuples are created after that you cannot changed, added, or removed in tuples."
      ],
      "metadata": {
        "id": "gKwq2MobaNBL"
      }
    },
    {
      "cell_type": "markdown",
      "source": [
        "#7.  Write a code to append the number 10 to the list [1, 2, 3, 4]."
      ],
      "metadata": {
        "id": "08_MO5lYaV7X"
      }
    },
    {
      "cell_type": "code",
      "source": [
        "list = [1,2,3,4]\n",
        "list.append(\"10\")\n",
        "print(list)"
      ],
      "metadata": {
        "id": "g9a8razYabgW",
        "colab": {
          "base_uri": "https://localhost:8080/"
        },
        "outputId": "2f094583-4f77-4d2c-9625-37b14acc41b7"
      },
      "execution_count": null,
      "outputs": [
        {
          "output_type": "stream",
          "name": "stdout",
          "text": [
            "[1, 2, 3, 4, '10']\n"
          ]
        }
      ]
    },
    {
      "cell_type": "markdown",
      "source": [
        "#8. What is a hash table, and how does it relate to dictionaries in Python ?\n",
        " - The term hash table is also known as hash map, is a data type structure that implements an associate array,a structure that can map keys to values.\n",
        " Hash table are related to dictionaries by helping in underlying data structure, providing efficient access, handling collision handling and gave hash function.\n"
      ],
      "metadata": {
        "id": "Lj4f1bYWC5ir"
      }
    },
    {
      "cell_type": "markdown",
      "source": [
        "#8.  Write a code to remove the number 3 from the list [1, 2, 3, 4, 5]."
      ],
      "metadata": {
        "id": "DeeNjTIWBbTt"
      }
    },
    {
      "cell_type": "code",
      "source": [
        "list = [1,2,3,4,5]\n",
        "list.remove(3)\n",
        "print(list)"
      ],
      "metadata": {
        "colab": {
          "base_uri": "https://localhost:8080/"
        },
        "id": "i_FjdSWqBoaQ",
        "outputId": "4ece98a6-3daf-4ab8-8d6c-c6a2d47804ed"
      },
      "execution_count": null,
      "outputs": [
        {
          "output_type": "stream",
          "name": "stdout",
          "text": [
            "[1, 2, 4, 5]\n"
          ]
        }
      ]
    },
    {
      "cell_type": "markdown",
      "source": [
        "#9. Can lists contain different data types in Python ?\n",
        " - Yes.because in python, lists are quite versatile and can contain elements of different data types.the list includes an integer, a string, a float, a boolen, another list, and a dictinary."
      ],
      "metadata": {
        "id": "vgZTe9bLEs2S"
      }
    },
    {
      "cell_type": "markdown",
      "source": [
        "#9. Write a code to access the second element in the list ['a', 'b', 'c', 'd'].\n"
      ],
      "metadata": {
        "id": "_6wNsfRQ-7qe"
      }
    },
    {
      "cell_type": "code",
      "source": [
        "list = ['a','b','c','d']\n",
        "list[1]"
      ],
      "metadata": {
        "colab": {
          "base_uri": "https://localhost:8080/",
          "height": 36
        },
        "id": "li6vWv2q_I8W",
        "outputId": "fee0e2ae-6bef-44fd-cfc4-c51d0c605ea1"
      },
      "execution_count": null,
      "outputs": [
        {
          "output_type": "execute_result",
          "data": {
            "text/plain": [
              "'b'"
            ],
            "application/vnd.google.colaboratory.intrinsic+json": {
              "type": "string"
            }
          },
          "metadata": {},
          "execution_count": 4
        }
      ]
    },
    {
      "cell_type": "markdown",
      "source": [
        "#10. Explain why strings are immutable in Python ?\n",
        "- In python, strings are immutable. and immutability is a fundamental property of python that helps ensure stability, security, and efficiency in your code."
      ],
      "metadata": {
        "id": "_HNnAXPXAaCf"
      }
    },
    {
      "cell_type": "markdown",
      "source": [
        "#10. Write a code to reverse the list [10, 20, 30, 40, 50]."
      ],
      "metadata": {
        "id": "giQ8AesbB4yy"
      }
    },
    {
      "cell_type": "code",
      "source": [
        "list = [10,20,30,40,50]\n",
        "list.reverse()\n",
        "print(list)"
      ],
      "metadata": {
        "colab": {
          "base_uri": "https://localhost:8080/"
        },
        "id": "LJIIaXKuB91c",
        "outputId": "4305f818-5fc8-45a8-9be0-556d99b44597"
      },
      "execution_count": null,
      "outputs": [
        {
          "output_type": "stream",
          "name": "stdout",
          "text": [
            "[50, 40, 30, 20, 10]\n"
          ]
        }
      ]
    },
    {
      "cell_type": "markdown",
      "source": [
        "#11. What advantages do dictionaries offer over lists for certain tasks ?\n",
        "- Dictionaries and lists both have their unique advantages, but dictionaries can be particularly useful for certain tasks. As dictionaries gives a certain advantages over lists are Faster lookups, Key-value pair storage, unique keys, Readable  code,Efficient insertion and deletion, and Data organisation."
      ],
      "metadata": {
        "id": "1Jt1Dg19CkKt"
      }
    },
    {
      "cell_type": "markdown",
      "source": [
        "#11. Write a code to create a tuple with the elements 100, 200, 300 and print it."
      ],
      "metadata": {
        "id": "mIzU2Po3CscC"
      }
    },
    {
      "cell_type": "code",
      "source": [
        "elements = (100,200,300)\n",
        "print(elements)"
      ],
      "metadata": {
        "colab": {
          "base_uri": "https://localhost:8080/"
        },
        "id": "hL0pWWXuCyCA",
        "outputId": "36e7bff4-060e-4976-e3b7-fe75e56dd49c"
      },
      "execution_count": null,
      "outputs": [
        {
          "output_type": "stream",
          "name": "stdout",
          "text": [
            "(100, 200, 300)\n"
          ]
        }
      ]
    },
    {
      "cell_type": "markdown",
      "source": [
        "#12.  Describe a scenario where using a tuple would be preferable over a list.\n",
        "-  Tuple would be preferable over a list is when dealing with fixed data that should not be changed throughout the program."
      ],
      "metadata": {
        "id": "EJkfn56OEXWf"
      }
    },
    {
      "cell_type": "markdown",
      "source": [
        "#12. Write a code to access the second-to-last element of the tuple ('red', 'green', 'blue', 'yellow')."
      ],
      "metadata": {
        "id": "R3uc9X5uEhNB"
      }
    },
    {
      "cell_type": "code",
      "source": [
        "element = ('red','green','blue','yellow')\n",
        "element[-2]"
      ],
      "metadata": {
        "colab": {
          "base_uri": "https://localhost:8080/",
          "height": 36
        },
        "id": "V-C5nj-rEngy",
        "outputId": "e05ebb46-1779-4537-9e98-f870cda27333"
      },
      "execution_count": null,
      "outputs": [
        {
          "output_type": "execute_result",
          "data": {
            "text/plain": [
              "'blue'"
            ],
            "application/vnd.google.colaboratory.intrinsic+json": {
              "type": "string"
            }
          },
          "metadata": {},
          "execution_count": 12
        }
      ]
    },
    {
      "cell_type": "markdown",
      "source": [
        "#13. How do sets handle duplicate values in Python?\n",
        "- Sets in python are designed to handle duplicate values automatically. When you add elements to a set, it only keeps unique elements. If you try to add duplicate element, it will ignored and will not be added to the set. This ensures that a set is always contains distinct elements."
      ],
      "metadata": {
        "id": "WGd3SE0LFGjm"
      }
    },
    {
      "cell_type": "markdown",
      "source": [
        "#13. Write a code to find the minimum number in the tuple (10, 20, 5, 15)."
      ],
      "metadata": {
        "id": "HZ05GEUJFRRO"
      }
    },
    {
      "cell_type": "code",
      "source": [
        "num = (10,20,5,15)\n",
        "min(num)"
      ],
      "metadata": {
        "colab": {
          "base_uri": "https://localhost:8080/"
        },
        "id": "d2vio1c6FWHm",
        "outputId": "f332ed03-a583-4cfa-c703-c4296936227f"
      },
      "execution_count": null,
      "outputs": [
        {
          "output_type": "execute_result",
          "data": {
            "text/plain": [
              "5"
            ]
          },
          "metadata": {},
          "execution_count": 17
        }
      ]
    },
    {
      "cell_type": "markdown",
      "source": [
        "#14.  How does the “in” keyword work differently for lists and dictionaries?\n",
        "- When using \"in\" with a list, it checks if a specified element is present in the list while using \"in\" with a dictionary, it checks if the specified key is present in the dictionary."
      ],
      "metadata": {
        "id": "J9Cb-RnWF7CO"
      }
    },
    {
      "cell_type": "markdown",
      "source": [
        "#14. Write a code to find the index of the element \"cat\" in the tuple ('dog', 'cat', 'rabbit')."
      ],
      "metadata": {
        "id": "F3iQ2Ck2GClY"
      }
    },
    {
      "cell_type": "code",
      "source": [
        "element = ('dog','cat','rabbit')\n",
        "element.index('cat')"
      ],
      "metadata": {
        "colab": {
          "base_uri": "https://localhost:8080/"
        },
        "id": "vXIRWhmmGIWo",
        "outputId": "d2e2b328-6416-4c87-9732-b318fad51131"
      },
      "execution_count": null,
      "outputs": [
        {
          "output_type": "execute_result",
          "data": {
            "text/plain": [
              "1"
            ]
          },
          "metadata": {},
          "execution_count": 19
        }
      ]
    },
    {
      "cell_type": "markdown",
      "source": [
        "#15.  Can you modify the elements of a tuple? Explain why or why not.\n",
        "- No, you cannot modify the element of a tuple. Because tuples are immutable, meaning a tuple cannot be changed, added, or removed anything after the creation."
      ],
      "metadata": {
        "id": "MACy1salGm2Q"
      }
    },
    {
      "cell_type": "markdown",
      "source": [
        "#15.  Write a code to create a tuple containing three different fruits and check if \"kiwi\" is in it."
      ],
      "metadata": {
        "id": "h0Feq14NGvXB"
      }
    },
    {
      "cell_type": "code",
      "source": [
        "fruits = (\"mango\",\"apple\",\"kiwi\")\n",
        "if \"kiwi\" in fruits:\n",
        "  print(\"kiwi is in tuples\")\n",
        "else:\n",
        "  print(\"kiwi is not in tuple\")\n"
      ],
      "metadata": {
        "colab": {
          "base_uri": "https://localhost:8080/"
        },
        "id": "Yye0YI0bG03V",
        "outputId": "cc8409b0-2e57-4348-834f-39c53e0b475e"
      },
      "execution_count": null,
      "outputs": [
        {
          "output_type": "stream",
          "name": "stdout",
          "text": [
            "kiwi is in tuples\n"
          ]
        }
      ]
    },
    {
      "cell_type": "markdown",
      "source": [
        "#16. What is a nested dictionary, and give an example of its use case?\n",
        "- A nested dictionary is a dictionary that contains another dictionary as a value. This allows you to create a hierarchy or multi-level structure within your data, making it useful for representing complex information that has multiple layers of detail.\n",
        "\n",
        "Use Case Example:\n",
        "\n",
        "Consider an application that tracks information about employees in different departments of a company. You can use a nested dictionary to store employee data, where each department is a key, and the value is another dictionary containing employee details."
      ],
      "metadata": {
        "id": "XpN8o2F6oCGF"
      }
    },
    {
      "cell_type": "markdown",
      "source": [
        "#16. . Write a code to create a set with the elements 'a', 'b', 'c' and print it."
      ],
      "metadata": {
        "id": "UUhSyDeGoIk4"
      }
    },
    {
      "cell_type": "code",
      "source": [
        "set = {'a','b','c'}\n",
        "print(set)"
      ],
      "metadata": {
        "colab": {
          "base_uri": "https://localhost:8080/"
        },
        "id": "mEbC8HKpoNPm",
        "outputId": "65064434-8c8e-4c0e-ff2c-b445d9e17d11"
      },
      "execution_count": null,
      "outputs": [
        {
          "output_type": "stream",
          "name": "stdout",
          "text": [
            "{'a', 'b', 'c'}\n"
          ]
        }
      ]
    },
    {
      "cell_type": "markdown",
      "source": [
        "#17.  Describe the time complexity of accessing elements in a dictionary.\n",
        "- The time complexity of accessing elements in a dictionary in Python is generally O(1) on average  means that, on average, the time it takes to retrieve a value from a dictionary by its key is constant, regardless of the size of the dictionary."
      ],
      "metadata": {
        "id": "gkVPfsY5oqOb"
      }
    },
    {
      "cell_type": "markdown",
      "source": [
        "#17.  Write a code to clear all elements from the set {1, 2, 3, 4, 5}."
      ],
      "metadata": {
        "id": "51grJNPootew"
      }
    },
    {
      "cell_type": "code",
      "source": [
        "set = {1,2,3,4,5}\n",
        "set.clear()\n",
        "print(set)"
      ],
      "metadata": {
        "colab": {
          "base_uri": "https://localhost:8080/"
        },
        "id": "W_NeA4XPodpr",
        "outputId": "ba27971a-26f5-4408-8696-d809a44155f6"
      },
      "execution_count": null,
      "outputs": [
        {
          "output_type": "stream",
          "name": "stdout",
          "text": [
            "set()\n"
          ]
        }
      ]
    },
    {
      "cell_type": "markdown",
      "source": [
        "#18. In what situations are lists preferred over dictionaries?\n",
        "- Lists and dictionaries are both valuable data structures in Python, but they serve different purposes and are suited to different situations. The lists are preferred over dictionaries in some cases in Data ordered, Efficient access by index, used to store similar homogenous data, Dynamic size, Access to simple data, helps in iteration."
      ],
      "metadata": {
        "id": "hDXMeSaFpLmo"
      }
    },
    {
      "cell_type": "markdown",
      "source": [
        "#18.  Write a code to remove the element 4 from the set {1, 2, 3, 4}.\n"
      ],
      "metadata": {
        "id": "hB_D9AMSpS9h"
      }
    },
    {
      "cell_type": "code",
      "source": [
        "num = {1,2,3,4}\n",
        "num.remove(4)\n",
        "print(num)"
      ],
      "metadata": {
        "colab": {
          "base_uri": "https://localhost:8080/"
        },
        "id": "h8_ZssAReTi6",
        "outputId": "416603c0-9f0e-4652-9b06-f383f5e6b540"
      },
      "execution_count": null,
      "outputs": [
        {
          "output_type": "stream",
          "name": "stdout",
          "text": [
            "{1, 2, 3}\n"
          ]
        }
      ]
    },
    {
      "cell_type": "markdown",
      "source": [
        "#19.  Why are dictionaries considered unordered, and how does that affect data retrieval?\n",
        "-  Dictionaries in Python are considered unordered because they do not maintain any specific order of the keys and values means that the elements in a dictionary do not have a guaranteed order.\n",
        "Effect on data retrieval- Access to unordered data, Quick access to values stored if order is not important."
      ],
      "metadata": {
        "id": "rwnO_rNue0UE"
      }
    },
    {
      "cell_type": "markdown",
      "source": [
        "#19. Write a code to find the union of two sets {1, 2, 3} and {3, 4, 5}.\n"
      ],
      "metadata": {
        "id": "Pn1ywT__e7ZF"
      }
    },
    {
      "cell_type": "code",
      "source": [
        "set1 = {1,2,3}\n",
        "set2 = {3,4,5}\n",
        "set1 | set2"
      ],
      "metadata": {
        "colab": {
          "base_uri": "https://localhost:8080/"
        },
        "id": "ZEcBbfxJfA-K",
        "outputId": "44dab213-40fa-4485-a6d7-7dd76c7eff1c"
      },
      "execution_count": null,
      "outputs": [
        {
          "output_type": "execute_result",
          "data": {
            "text/plain": [
              "{1, 2, 3, 4, 5}"
            ]
          },
          "metadata": {},
          "execution_count": 5
        }
      ]
    },
    {
      "cell_type": "markdown",
      "source": [
        "#20.  Explain the difference between a list and a dictionary in terms of data retrieval.\n",
        "- Ther difference between a list and a dictionary in data retrieval is that Lists use integer indices to access elements whereas dictionary use unique keys to access value. Lists maintain the order of  elements whereas dictionary do not maintain the order of elements. The time complexity for an element in a list has 0(n) whereas time complexity for accessing a value has 0 on average."
      ],
      "metadata": {
        "id": "zttL38IafcsG"
      }
    },
    {
      "cell_type": "markdown",
      "source": [
        "#20. Write a code to find the intersection of two sets {1, 2, 3} and {2, 3, 4}.\n"
      ],
      "metadata": {
        "id": "2fnyjUCofiId"
      }
    },
    {
      "cell_type": "code",
      "source": [
        "set1 = {1,2,3}\n",
        "set2 = {2,3,4}\n",
        "set1 & set2"
      ],
      "metadata": {
        "colab": {
          "base_uri": "https://localhost:8080/"
        },
        "id": "h3Z82_BIfoPZ",
        "outputId": "f3a2dd2a-f569-4854-d5fd-72cd604827b8"
      },
      "execution_count": null,
      "outputs": [
        {
          "output_type": "execute_result",
          "data": {
            "text/plain": [
              "{2, 3}"
            ]
          },
          "metadata": {},
          "execution_count": 6
        }
      ]
    },
    {
      "cell_type": "markdown",
      "source": [
        "#21.  Write a code to create a dictionary with the keys \"name\", \"age\", and \"city\", and print it.\n"
      ],
      "metadata": {
        "id": "6sydsqDtf4JQ"
      }
    },
    {
      "cell_type": "code",
      "source": [
        "my_dict = {\"name\",\"age\",\"city\"}\n",
        "print(my_dict)"
      ],
      "metadata": {
        "colab": {
          "base_uri": "https://localhost:8080/"
        },
        "id": "IKCJLwTVpoKK",
        "outputId": "d22cceeb-c254-4582-e6b3-3962f92d4a45"
      },
      "execution_count": null,
      "outputs": [
        {
          "output_type": "stream",
          "name": "stdout",
          "text": [
            "{'city', 'name', 'age'}\n"
          ]
        }
      ]
    },
    {
      "cell_type": "markdown",
      "source": [
        "#22. Write a code to add a new key-value pair \"country\": \"USA\" to the dictionary {'name': 'John', 'age': 25}."
      ],
      "metadata": {
        "id": "rEpdCO1Np7L5"
      }
    },
    {
      "cell_type": "code",
      "source": [
        "my_dict = {\"name\":\"john\",\"age\":25}\n",
        "my_dict.update({\"country\":\"USA\"})\n",
        "print(my_dict)"
      ],
      "metadata": {
        "colab": {
          "base_uri": "https://localhost:8080/"
        },
        "id": "LbaE_M4ap_8A",
        "outputId": "7737472d-2dd5-4112-8fcf-3d82c4d1a0f2"
      },
      "execution_count": null,
      "outputs": [
        {
          "output_type": "stream",
          "name": "stdout",
          "text": [
            "{'name': 'john', 'age': 25, 'country': 'USA'}\n"
          ]
        }
      ]
    },
    {
      "cell_type": "markdown",
      "source": [
        "#23. . Write a code to access the value associated with the key \"name\" in the dictionary {'name': 'Alice', 'age': 30}.\n"
      ],
      "metadata": {
        "id": "eR-Ib0djrQMD"
      }
    },
    {
      "cell_type": "code",
      "source": [
        "my_dict = {'name':'Alice','age':30}\n",
        "my_dict.get('name')"
      ],
      "metadata": {
        "colab": {
          "base_uri": "https://localhost:8080/",
          "height": 36
        },
        "id": "k2VVQqmjrV9E",
        "outputId": "53feff14-43d5-4f37-9710-0e50eaab9a7b"
      },
      "execution_count": null,
      "outputs": [
        {
          "output_type": "execute_result",
          "data": {
            "text/plain": [
              "'Alice'"
            ],
            "application/vnd.google.colaboratory.intrinsic+json": {
              "type": "string"
            }
          },
          "metadata": {},
          "execution_count": 14
        }
      ]
    },
    {
      "cell_type": "markdown",
      "source": [
        "#24. Write a code to remove the key \"age\" from the dictionary {'name': 'Bob', 'age': 22, 'city': 'New York'}.\n"
      ],
      "metadata": {
        "id": "P5mbfpjXsYBd"
      }
    },
    {
      "cell_type": "code",
      "source": [
        "my_dict = {'name':'Bob','age':22,'city':'New York'}\n",
        "my_dict.pop('age')\n",
        "print(my_dict)"
      ],
      "metadata": {
        "colab": {
          "base_uri": "https://localhost:8080/"
        },
        "id": "krozsxl7sePv",
        "outputId": "44cc8d07-3f0a-40db-d258-67562304ec08"
      },
      "execution_count": null,
      "outputs": [
        {
          "output_type": "stream",
          "name": "stdout",
          "text": [
            "{'name': 'Bob', 'city': 'New York'}\n"
          ]
        }
      ]
    },
    {
      "cell_type": "markdown",
      "source": [
        "#25.  Write a code to check if the key \"city\" exists in the dictionary {'name': 'Alice', 'city': 'Paris'}.\n"
      ],
      "metadata": {
        "id": "xmaTUehst2uc"
      }
    },
    {
      "cell_type": "code",
      "source": [
        "my_dict = {'name':'Alice','city':'Paris'}\n",
        "if 'city' in my_dict:\n",
        "  print(\"city is in dictionary\")\n",
        "else:\n",
        "  print(\"city is not in dictionary\")"
      ],
      "metadata": {
        "colab": {
          "base_uri": "https://localhost:8080/"
        },
        "id": "kYPzBuvGt9VA",
        "outputId": "dcc05434-b704-4f02-e52e-299ae25cc276"
      },
      "execution_count": null,
      "outputs": [
        {
          "output_type": "stream",
          "name": "stdout",
          "text": [
            "city is in dictionary\n"
          ]
        }
      ]
    },
    {
      "cell_type": "markdown",
      "source": [
        "#26. Write a code to create a list, a tuple, and a dictionary, and print them all.\n"
      ],
      "metadata": {
        "id": "Z0VKKDQSvskX"
      }
    },
    {
      "cell_type": "code",
      "source": [
        "my_list = [1, 2, 3, 4, 5]\n",
        "my_tuple = (6, 7, 8, 9, 10)\n",
        "my_dict = {'a': 1, 'b': 2, 'c': 3, 'd': 4, 'e': 5}\n",
        "print(\"List:\", my_list)\n",
        "print(\"Tuple:\", my_tuple)\n",
        "print(\"Dictionary:\", my_dict)\n"
      ],
      "metadata": {
        "colab": {
          "base_uri": "https://localhost:8080/"
        },
        "id": "GKsuxBcCv6Gx",
        "outputId": "95927c7a-137a-4be2-b268-2252188311c2"
      },
      "execution_count": null,
      "outputs": [
        {
          "output_type": "stream",
          "name": "stdout",
          "text": [
            "List: [1, 2, 3, 4, 5]\n",
            "Tuple: (6, 7, 8, 9, 10)\n",
            "Dictionary: {'a': 1, 'b': 2, 'c': 3, 'd': 4, 'e': 5}\n"
          ]
        }
      ]
    },
    {
      "cell_type": "markdown",
      "source": [
        "#27. Write a code to create a list of 5 random numbers between 1 and 100, sort it in ascending order, and print the result.(replaced)"
      ],
      "metadata": {
        "id": "JCTgg-iEwZKt"
      }
    },
    {
      "cell_type": "code",
      "source": [
        "import random\n",
        "sample_size = 5\n",
        "random_numbers = random.sample(range(1,100,5), sample_size)\n",
        "random_numbers.sort()\n",
        "print(\"sorted list of random number:\", random_numbers)"
      ],
      "metadata": {
        "colab": {
          "base_uri": "https://localhost:8080/"
        },
        "id": "64Xqnod5wj7p",
        "outputId": "26de4b25-a8ff-4db4-af44-0150e13899a8"
      },
      "execution_count": null,
      "outputs": [
        {
          "output_type": "stream",
          "name": "stdout",
          "text": [
            "sorted list of random number: [11, 26, 36, 66, 86]\n"
          ]
        }
      ]
    },
    {
      "cell_type": "markdown",
      "source": [
        "#28. Write a code to create a list with strings and print the element at the third index.\n"
      ],
      "metadata": {
        "id": "daN6C6LQyndf"
      }
    },
    {
      "cell_type": "code",
      "source": [
        "my_list = [\"apple\", \"banana\", \"cherry\", \"date\", \"blueberry\"]\n",
        "print(my_list[3])"
      ],
      "metadata": {
        "id": "P2NCvkqZysHs",
        "colab": {
          "base_uri": "https://localhost:8080/"
        },
        "outputId": "be18add6-8ef3-4d78-db9f-e77598adabf4"
      },
      "execution_count": null,
      "outputs": [
        {
          "output_type": "stream",
          "name": "stdout",
          "text": [
            "date\n"
          ]
        }
      ]
    },
    {
      "cell_type": "markdown",
      "source": [
        "#29. . Write a code to combine two dictionaries into one and print the result.\n"
      ],
      "metadata": {
        "id": "xOFkVHVpDf63"
      }
    },
    {
      "cell_type": "code",
      "source": [
        "dict1 = {'a': 1, 'b': 2, 'c': 3}\n",
        "dict2 = {'d': 4, 'e': 5, 'f': 6}\n",
        "combined_dict = {**dict1, **dict2}\n",
        "print(combined_dict)"
      ],
      "metadata": {
        "colab": {
          "base_uri": "https://localhost:8080/"
        },
        "id": "npVVdTU2DmLI",
        "outputId": "63bbe8e2-ba4f-47bb-b833-6037045f6792"
      },
      "execution_count": null,
      "outputs": [
        {
          "output_type": "stream",
          "name": "stdout",
          "text": [
            "{'a': 1, 'b': 2, 'c': 3, 'd': 4, 'e': 5, 'f': 6}\n"
          ]
        }
      ]
    },
    {
      "cell_type": "markdown",
      "source": [
        "#30. . Write a code to convert a list of strings into a set.\n"
      ],
      "metadata": {
        "id": "gHRXSyIuDm1A"
      }
    },
    {
      "cell_type": "code",
      "source": [
        "string_list = [\"apple\", \"banana\", \"cherry\", \"apple\", \"banana\"]\n",
        "string_set = set(string_list)\n",
        "print(string_set)"
      ],
      "metadata": {
        "colab": {
          "base_uri": "https://localhost:8080/"
        },
        "id": "rA4uehzqDrUq",
        "outputId": "55fcc816-339f-4056-fb9c-d020b8b20e5d"
      },
      "execution_count": null,
      "outputs": [
        {
          "output_type": "stream",
          "name": "stdout",
          "text": [
            "{'apple', 'banana', 'cherry'}\n"
          ]
        }
      ]
    }
  ]
}